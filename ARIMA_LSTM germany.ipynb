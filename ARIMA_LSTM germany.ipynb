{
  "nbformat": 4,
  "nbformat_minor": 0,
  "metadata": {
    "colab": {
      "name": "ARIMA-LSTM.ipynb",
      "provenance": [],
      "authorship_tag": "ABX9TyMI2IHqWM0fgkIJx9vYRU2u",
      "include_colab_link": true
    },
    "kernelspec": {
      "name": "python3",
      "display_name": "Python 3"
    }
  },
  "cells": [
    {
      "cell_type": "markdown",
      "metadata": {
        "id": "view-in-github",
        "colab_type": "text"
      },
      "source": [
        "<a href=\"https://colab.research.google.com/github/souvik25162/ArimaAnnHybrid/blob/master/ARIMA_LSTM%20germany.ipynb\" target=\"_parent\"><img src=\"https://colab.research.google.com/assets/colab-badge.svg\" alt=\"Open In Colab\"/></a>"
      ]
    },
    {
      "cell_type": "code",
      "metadata": {
        "id": "vs1tGLuWsMeE",
        "colab": {
          "base_uri": "https://localhost:8080/"
        },
        "outputId": "ddeeecf1-ed4b-4c77-e7b8-5a65384bfce4"
      },
      "source": [
        "pip install statsmodels --upgrade"
      ],
      "execution_count": 1,
      "outputs": [
        {
          "output_type": "stream",
          "text": [
            "Collecting statsmodels\n",
            "\u001b[?25l  Downloading https://files.pythonhosted.org/packages/be/4c/9e2435ca6645d6bafa2b51bb11f0a365b28934a2ffe9d6e339d67130926d/statsmodels-0.12.1-cp36-cp36m-manylinux1_x86_64.whl (9.5MB)\n",
            "\u001b[K     |████████████████████████████████| 9.5MB 7.4MB/s \n",
            "\u001b[?25hRequirement already satisfied, skipping upgrade: pandas>=0.21 in /usr/local/lib/python3.6/dist-packages (from statsmodels) (1.1.5)\n",
            "Requirement already satisfied, skipping upgrade: scipy>=1.1 in /usr/local/lib/python3.6/dist-packages (from statsmodels) (1.4.1)\n",
            "Requirement already satisfied, skipping upgrade: numpy>=1.15 in /usr/local/lib/python3.6/dist-packages (from statsmodels) (1.19.5)\n",
            "Requirement already satisfied, skipping upgrade: patsy>=0.5 in /usr/local/lib/python3.6/dist-packages (from statsmodels) (0.5.1)\n",
            "Requirement already satisfied, skipping upgrade: pytz>=2017.2 in /usr/local/lib/python3.6/dist-packages (from pandas>=0.21->statsmodels) (2018.9)\n",
            "Requirement already satisfied, skipping upgrade: python-dateutil>=2.7.3 in /usr/local/lib/python3.6/dist-packages (from pandas>=0.21->statsmodels) (2.8.1)\n",
            "Requirement already satisfied, skipping upgrade: six in /usr/local/lib/python3.6/dist-packages (from patsy>=0.5->statsmodels) (1.15.0)\n",
            "Installing collected packages: statsmodels\n",
            "  Found existing installation: statsmodels 0.10.2\n",
            "    Uninstalling statsmodels-0.10.2:\n",
            "      Successfully uninstalled statsmodels-0.10.2\n",
            "Successfully installed statsmodels-0.12.1\n"
          ],
          "name": "stdout"
        }
      ]
    },
    {
      "cell_type": "code",
      "metadata": {
        "id": "YNR34Ka5fN-X"
      },
      "source": [
        "import numpy as np\n",
        "import pandas as pd\n",
        "import matplotlib.pyplot as plt\n",
        "import keras\n",
        "from keras.layers import Dense,Dropout,LSTM\n",
        "from keras.models import Sequential\n",
        "from sklearn.preprocessing import MinMaxScaler,StandardScaler\n",
        "plt.style.use('fivethirtyeight')"
      ],
      "execution_count": 2,
      "outputs": []
    },
    {
      "cell_type": "code",
      "metadata": {
        "id": "bsz_OtldfR8l",
        "colab": {
          "resources": {
            "http://localhost:8080/nbextensions/google.colab/files.js": {
              "data": "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",
              "ok": true,
              "headers": [
                [
                  "content-type",
                  "application/javascript"
                ]
              ],
              "status": 200,
              "status_text": ""
            }
          },
          "base_uri": "https://localhost:8080/",
          "height": 250
        },
        "outputId": "8038bf2c-5983-4bdb-a105-d0c08434cce3"
      },
      "source": [
        "from google.colab import files\n",
        "uploaded=files.upload()\n",
        "df=pd.read_excel('germany.xlsx')\n",
        "##df.rename(columns={'LMUNRRTTCHM156S':'values'},inplace=True)\n",
        "df.head()"
      ],
      "execution_count": 3,
      "outputs": [
        {
          "output_type": "display_data",
          "data": {
            "text/html": [
              "\n",
              "     <input type=\"file\" id=\"files-fff56cfe-896c-43ca-8525-8aa743f6e077\" name=\"files[]\" multiple disabled\n",
              "        style=\"border:none\" />\n",
              "     <output id=\"result-fff56cfe-896c-43ca-8525-8aa743f6e077\">\n",
              "      Upload widget is only available when the cell has been executed in the\n",
              "      current browser session. Please rerun this cell to enable.\n",
              "      </output>\n",
              "      <script src=\"/nbextensions/google.colab/files.js\"></script> "
            ],
            "text/plain": [
              "<IPython.core.display.HTML object>"
            ]
          },
          "metadata": {
            "tags": []
          }
        },
        {
          "output_type": "stream",
          "text": [
            "Saving germany.xlsx to germany.xlsx\n"
          ],
          "name": "stdout"
        },
        {
          "output_type": "execute_result",
          "data": {
            "text/html": [
              "<div>\n",
              "<style scoped>\n",
              "    .dataframe tbody tr th:only-of-type {\n",
              "        vertical-align: middle;\n",
              "    }\n",
              "\n",
              "    .dataframe tbody tr th {\n",
              "        vertical-align: top;\n",
              "    }\n",
              "\n",
              "    .dataframe thead th {\n",
              "        text-align: right;\n",
              "    }\n",
              "</style>\n",
              "<table border=\"1\" class=\"dataframe\">\n",
              "  <thead>\n",
              "    <tr style=\"text-align: right;\">\n",
              "      <th></th>\n",
              "      <th>DATE</th>\n",
              "      <th>values</th>\n",
              "    </tr>\n",
              "  </thead>\n",
              "  <tbody>\n",
              "    <tr>\n",
              "      <th>0</th>\n",
              "      <td>1980-01-01</td>\n",
              "      <td>3.1</td>\n",
              "    </tr>\n",
              "    <tr>\n",
              "      <th>1</th>\n",
              "      <td>1980-02-01</td>\n",
              "      <td>3.0</td>\n",
              "    </tr>\n",
              "    <tr>\n",
              "      <th>2</th>\n",
              "      <td>1980-03-01</td>\n",
              "      <td>3.1</td>\n",
              "    </tr>\n",
              "    <tr>\n",
              "      <th>3</th>\n",
              "      <td>1980-04-01</td>\n",
              "      <td>3.2</td>\n",
              "    </tr>\n",
              "    <tr>\n",
              "      <th>4</th>\n",
              "      <td>1980-05-01</td>\n",
              "      <td>3.3</td>\n",
              "    </tr>\n",
              "  </tbody>\n",
              "</table>\n",
              "</div>"
            ],
            "text/plain": [
              "        DATE  values\n",
              "0 1980-01-01     3.1\n",
              "1 1980-02-01     3.0\n",
              "2 1980-03-01     3.1\n",
              "3 1980-04-01     3.2\n",
              "4 1980-05-01     3.3"
            ]
          },
          "metadata": {
            "tags": []
          },
          "execution_count": 3
        }
      ]
    },
    {
      "cell_type": "code",
      "metadata": {
        "id": "b9cp-XLyyBxw"
      },
      "source": [
        "#df.rename(columns={'japan':'values'},inplace=True)"
      ],
      "execution_count": null,
      "outputs": []
    },
    {
      "cell_type": "code",
      "metadata": {
        "id": "qh4802N2XdO4"
      },
      "source": [
        "df['DATE']=pd.to_datetime(df['DATE'])"
      ],
      "execution_count": 4,
      "outputs": []
    },
    {
      "cell_type": "code",
      "metadata": {
        "id": "_jGd2CNDh6HW"
      },
      "source": [
        "df.index= pd.to_datetime(df.pop('DATE'))"
      ],
      "execution_count": 23,
      "outputs": []
    },
    {
      "cell_type": "code",
      "metadata": {
        "id": "JDWrU9_yYDIB",
        "colab": {
          "base_uri": "https://localhost:8080/",
          "height": 223
        },
        "outputId": "61953b89-321f-438a-a7c3-b395ee9f5d28"
      },
      "source": [
        "df.head()"
      ],
      "execution_count": 24,
      "outputs": [
        {
          "output_type": "execute_result",
          "data": {
            "text/html": [
              "<div>\n",
              "<style scoped>\n",
              "    .dataframe tbody tr th:only-of-type {\n",
              "        vertical-align: middle;\n",
              "    }\n",
              "\n",
              "    .dataframe tbody tr th {\n",
              "        vertical-align: top;\n",
              "    }\n",
              "\n",
              "    .dataframe thead th {\n",
              "        text-align: right;\n",
              "    }\n",
              "</style>\n",
              "<table border=\"1\" class=\"dataframe\">\n",
              "  <thead>\n",
              "    <tr style=\"text-align: right;\">\n",
              "      <th></th>\n",
              "      <th>values</th>\n",
              "    </tr>\n",
              "    <tr>\n",
              "      <th>DATE</th>\n",
              "      <th></th>\n",
              "    </tr>\n",
              "  </thead>\n",
              "  <tbody>\n",
              "    <tr>\n",
              "      <th>1980-01-01</th>\n",
              "      <td>3.1</td>\n",
              "    </tr>\n",
              "    <tr>\n",
              "      <th>1980-02-01</th>\n",
              "      <td>3.0</td>\n",
              "    </tr>\n",
              "    <tr>\n",
              "      <th>1980-03-01</th>\n",
              "      <td>3.1</td>\n",
              "    </tr>\n",
              "    <tr>\n",
              "      <th>1980-04-01</th>\n",
              "      <td>3.2</td>\n",
              "    </tr>\n",
              "    <tr>\n",
              "      <th>1980-05-01</th>\n",
              "      <td>3.3</td>\n",
              "    </tr>\n",
              "  </tbody>\n",
              "</table>\n",
              "</div>"
            ],
            "text/plain": [
              "            values\n",
              "DATE              \n",
              "1980-01-01     3.1\n",
              "1980-02-01     3.0\n",
              "1980-03-01     3.1\n",
              "1980-04-01     3.2\n",
              "1980-05-01     3.3"
            ]
          },
          "metadata": {
            "tags": []
          },
          "execution_count": 24
        }
      ]
    },
    {
      "cell_type": "code",
      "metadata": {
        "id": "w-Nup_Zso2pb",
        "colab": {
          "base_uri": "https://localhost:8080/",
          "height": 343
        },
        "outputId": "197873f1-24f7-4981-f664-c9f2dded71ce"
      },
      "source": [
        "plt.figure(figsize=(8,4))\n",
        "plt.title(\"Unemployment Rate\")\n",
        "plt.plot(df['values'])\n",
        "plt.xlabel('date',fontsize=18)"
      ],
      "execution_count": 6,
      "outputs": [
        {
          "output_type": "execute_result",
          "data": {
            "text/plain": [
              "Text(0.5, 0, 'date')"
            ]
          },
          "metadata": {
            "tags": []
          },
          "execution_count": 6
        },
        {
          "output_type": "display_data",
          "data": {
            "image/png": "[encoded data removed]",
            "text/plain": [
              "<Figure size 576x288 with 1 Axes>"
            ]
          },
          "metadata": {
            "tags": []
          }
        }
      ]
    },
    {
      "cell_type": "code",
      "metadata": {
        "id": "CKjYDKU7qkgZ"
      },
      "source": [
        "data=df.filter(['values'])"
      ],
      "execution_count": 87,
      "outputs": []
    },
    {
      "cell_type": "code",
      "metadata": {
        "id": "KLgq4_dwyMrh",
        "colab": {
          "base_uri": "https://localhost:8080/"
        },
        "outputId": "7a9e85dd-8821-449a-b36e-c3b6e618b762"
      },
      "source": [
        "len(df)"
      ],
      "execution_count": 88,
      "outputs": [
        {
          "output_type": "execute_result",
          "data": {
            "text/plain": [
              "468"
            ]
          },
          "metadata": {
            "tags": []
          },
          "execution_count": 88
        }
      ]
    },
    {
      "cell_type": "code",
      "metadata": {
        "id": "JHMGDJRxruzh"
      },
      "source": [
        "dataset=data.values"
      ],
      "execution_count": 89,
      "outputs": []
    },
    {
      "cell_type": "code",
      "metadata": {
        "id": "d_XchZ-zry7a",
        "colab": {
          "base_uri": "https://localhost:8080/"
        },
        "outputId": "c4215f88-c2ff-42cf-a0e3-b220428281d4"
      },
      "source": [
        "import math\n",
        "training_datalen=432\n",
        "print(training_datalen)"
      ],
      "execution_count": 90,
      "outputs": [
        {
          "output_type": "stream",
          "text": [
            "432\n"
          ],
          "name": "stdout"
        }
      ]
    },
    {
      "cell_type": "code",
      "metadata": {
        "id": "6PYUd9XksDMB"
      },
      "source": [
        "from sklearn.preprocessing import MinMaxScaler\n",
        "scaler=MinMaxScaler(feature_range=(0,1))\n",
        "scaled_data=scaler.fit_transform(dataset)"
      ],
      "execution_count": 91,
      "outputs": []
    },
    {
      "cell_type": "code",
      "metadata": {
        "id": "79pdHP5vMGuv"
      },
      "source": [
        "train_data= scaled_data[0:432,:]\n",
        "time_step=30\n",
        "test_data= scaled_data[training_datalen-time_step:,:]"
      ],
      "execution_count": 92,
      "outputs": []
    },
    {
      "cell_type": "code",
      "metadata": {
        "id": "PkfX1RJnNewP",
        "colab": {
          "base_uri": "https://localhost:8080/"
        },
        "outputId": "487e1ed3-b969-431d-f83a-4375cf83ec21"
      },
      "source": [
        "len(test_data)"
      ],
      "execution_count": 93,
      "outputs": [
        {
          "output_type": "execute_result",
          "data": {
            "text/plain": [
              "66"
            ]
          },
          "metadata": {
            "tags": []
          },
          "execution_count": 93
        }
      ]
    },
    {
      "cell_type": "code",
      "metadata": {
        "id": "4rzfILXBNh_U",
        "colab": {
          "base_uri": "https://localhost:8080/"
        },
        "outputId": "a55bd1c4-ff84-486a-f8b3-b76a261706c9"
      },
      "source": [
        "x_train=[]\n",
        "y_train=[]\n",
        "for i in range(time_step,len(train_data)):\n",
        "  x_train.append(train_data[i-time_step:i,0])\n",
        "  y_train.append(train_data[i,0])\n",
        "  if i<=time_step:\n",
        "    print(x_train)\n",
        "    print(y_train)\n",
        "    print()"
      ],
      "execution_count": 94,
      "outputs": [
        {
          "output_type": "stream",
          "text": [
            "[array([0.01098901, 0.        , 0.01098901, 0.02197802, 0.03296703,\n",
            "       0.03296703, 0.04395604, 0.05494505, 0.05494505, 0.06593407,\n",
            "       0.08791209, 0.0989011 , 0.10989011, 0.12087912, 0.14285714,\n",
            "       0.15384615, 0.17582418, 0.18681319, 0.20879121, 0.23076923,\n",
            "       0.25274725, 0.27472527, 0.30769231, 0.32967033, 0.34065934,\n",
            "       0.35164835, 0.36263736, 0.37362637, 0.38461538, 0.3956044 ])]\n",
            "[0.40659340659340665]\n",
            "\n"
          ],
          "name": "stdout"
        }
      ]
    },
    {
      "cell_type": "code",
      "metadata": {
        "id": "8ViOunESPfoE"
      },
      "source": [
        "x_train=np.array(x_train)\n",
        "y_train=np.array(y_train)"
      ],
      "execution_count": 95,
      "outputs": []
    },
    {
      "cell_type": "code",
      "metadata": {
        "id": "xrueSFmLPtkQ",
        "colab": {
          "base_uri": "https://localhost:8080/"
        },
        "outputId": "4db248ca-f14f-497b-ecc5-939b46d12eb6"
      },
      "source": [
        "x_train.shape"
      ],
      "execution_count": 96,
      "outputs": [
        {
          "output_type": "execute_result",
          "data": {
            "text/plain": [
              "(402, 30)"
            ]
          },
          "metadata": {
            "tags": []
          },
          "execution_count": 96
        }
      ]
    },
    {
      "cell_type": "code",
      "metadata": {
        "id": "z8NssMD9QIz5"
      },
      "source": [
        "x_train= np.reshape(x_train,(x_train.shape[0],x_train.shape[1],1))"
      ],
      "execution_count": 97,
      "outputs": []
    },
    {
      "cell_type": "code",
      "metadata": {
        "id": "-hvELGZIRWkR",
        "colab": {
          "base_uri": "https://localhost:8080/",
          "height": 35
        },
        "outputId": "8e965e21-f6ea-41ed-a580-e4d3d2f687a7"
      },
      "source": [
        "x_train.shape"
      ],
      "execution_count": null,
      "outputs": [
        {
          "output_type": "execute_result",
          "data": {
            "text/plain": [
              "(402, 30, 1)"
            ]
          },
          "metadata": {
            "tags": []
          },
          "execution_count": 71
        }
      ]
    },
    {
      "cell_type": "code",
      "metadata": {
        "id": "A-RpjdCQS883"
      },
      "source": [
        "model=Sequential()\n",
        "model.add(LSTM(units=50,return_sequences=True,input_shape=(x_train.shape[1],1)))\n",
        "model.add(LSTM(units=50,return_sequences=False))\n",
        "model.add(Dense(25))\n",
        "model.add(Dense(1))"
      ],
      "execution_count": 98,
      "outputs": []
    },
    {
      "cell_type": "code",
      "metadata": {
        "id": "hgLTk93PTGuM"
      },
      "source": [
        "model.compile(optimizer='adam',loss='mean_squared_error')"
      ],
      "execution_count": 99,
      "outputs": []
    },
    {
      "cell_type": "code",
      "metadata": {
        "id": "fniE8pxuTR4x",
        "colab": {
          "base_uri": "https://localhost:8080/"
        },
        "outputId": "905c19c9-11bd-4565-ee91-b6a85df7e822"
      },
      "source": [
        "model.fit(x_train,y_train,batch_size=1,epochs=30)"
      ],
      "execution_count": 100,
      "outputs": [
        {
          "output_type": "stream",
          "text": [
            "Epoch 1/30\n",
            "402/402 [==============================] - 8s 13ms/step - loss: 0.0227\n",
            "Epoch 2/30\n",
            "402/402 [==============================] - 5s 13ms/step - loss: 0.0040\n",
            "Epoch 3/30\n",
            "402/402 [==============================] - 5s 13ms/step - loss: 0.0024\n",
            "Epoch 4/30\n",
            "402/402 [==============================] - 5s 13ms/step - loss: 0.0015\n",
            "Epoch 5/30\n",
            "402/402 [==============================] - 5s 13ms/step - loss: 0.0012\n",
            "Epoch 6/30\n",
            "402/402 [==============================] - 5s 13ms/step - loss: 0.0012\n",
            "Epoch 7/30\n",
            "402/402 [==============================] - 5s 13ms/step - loss: 7.9687e-04\n",
            "Epoch 8/30\n",
            "402/402 [==============================] - 5s 13ms/step - loss: 0.0012\n",
            "Epoch 9/30\n",
            "402/402 [==============================] - 5s 13ms/step - loss: 5.2642e-04\n",
            "Epoch 10/30\n",
            "402/402 [==============================] - 5s 13ms/step - loss: 3.3066e-04\n",
            "Epoch 11/30\n",
            "402/402 [==============================] - 5s 13ms/step - loss: 0.0012\n",
            "Epoch 12/30\n",
            "402/402 [==============================] - 5s 13ms/step - loss: 5.7617e-04\n",
            "Epoch 13/30\n",
            "402/402 [==============================] - 5s 13ms/step - loss: 3.5527e-04\n",
            "Epoch 14/30\n",
            "402/402 [==============================] - 5s 13ms/step - loss: 6.5772e-04\n",
            "Epoch 15/30\n",
            "402/402 [==============================] - 5s 13ms/step - loss: 5.6324e-04\n",
            "Epoch 16/30\n",
            "402/402 [==============================] - 5s 13ms/step - loss: 4.7258e-04\n",
            "Epoch 17/30\n",
            "402/402 [==============================] - 5s 13ms/step - loss: 2.8796e-04\n",
            "Epoch 18/30\n",
            "402/402 [==============================] - 5s 13ms/step - loss: 2.4431e-04\n",
            "Epoch 19/30\n",
            "402/402 [==============================] - 5s 13ms/step - loss: 4.5009e-04\n",
            "Epoch 20/30\n",
            "402/402 [==============================] - 5s 13ms/step - loss: 5.5065e-04\n",
            "Epoch 21/30\n",
            "402/402 [==============================] - 5s 13ms/step - loss: 2.9351e-04\n",
            "Epoch 22/30\n",
            "402/402 [==============================] - 5s 13ms/step - loss: 5.9098e-04\n",
            "Epoch 23/30\n",
            "402/402 [==============================] - 5s 13ms/step - loss: 3.6234e-04\n",
            "Epoch 24/30\n",
            "402/402 [==============================] - 5s 13ms/step - loss: 4.5563e-04\n",
            "Epoch 25/30\n",
            "402/402 [==============================] - 5s 13ms/step - loss: 4.5175e-04\n",
            "Epoch 26/30\n",
            "402/402 [==============================] - 5s 13ms/step - loss: 2.5178e-04\n",
            "Epoch 27/30\n",
            "402/402 [==============================] - 5s 13ms/step - loss: 3.1322e-04\n",
            "Epoch 28/30\n",
            "402/402 [==============================] - 5s 14ms/step - loss: 2.4412e-04\n",
            "Epoch 29/30\n",
            "402/402 [==============================] - 5s 13ms/step - loss: 3.4606e-04\n",
            "Epoch 30/30\n",
            "402/402 [==============================] - 5s 14ms/step - loss: 3.5751e-04\n"
          ],
          "name": "stdout"
        },
        {
          "output_type": "execute_result",
          "data": {
            "text/plain": [
              "<tensorflow.python.keras.callbacks.History at 0x7fe236b0f048>"
            ]
          },
          "metadata": {
            "tags": []
          },
          "execution_count": 100
        }
      ]
    },
    {
      "cell_type": "code",
      "metadata": {
        "id": "pP3Weo7qTbl6"
      },
      "source": [
        "x_test=[]\n",
        "y_test= dataset[training_datalen:,:]\n",
        "for i in range(time_step,len(test_data)):\n",
        "  x_test.append(test_data[i-time_step:i,0])"
      ],
      "execution_count": 101,
      "outputs": []
    },
    {
      "cell_type": "code",
      "metadata": {
        "id": "yhxOQJd_WBO_"
      },
      "source": [
        "x_test=np.array(x_test)"
      ],
      "execution_count": 102,
      "outputs": []
    },
    {
      "cell_type": "code",
      "metadata": {
        "id": "2_dHWVqsWGL6"
      },
      "source": [
        "x_test=np.reshape(x_test,(x_test.shape[0],x_test.shape[1],1))"
      ],
      "execution_count": 103,
      "outputs": []
    },
    {
      "cell_type": "code",
      "metadata": {
        "id": "KsEbRAWTWQTV"
      },
      "source": [
        "pred= model.predict(x_test)\n",
        "pred1=scaler.inverse_transform(pred)"
      ],
      "execution_count": 104,
      "outputs": []
    },
    {
      "cell_type": "code",
      "metadata": {
        "id": "ziH70DUk0i3l",
        "colab": {
          "base_uri": "https://localhost:8080/"
        },
        "outputId": "6fc26cd6-df33-41b2-d805-2bb5f3f0d9aa"
      },
      "source": [
        "len(pred1)"
      ],
      "execution_count": 105,
      "outputs": [
        {
          "output_type": "execute_result",
          "data": {
            "text/plain": [
              "36"
            ]
          },
          "metadata": {
            "tags": []
          },
          "execution_count": 105
        }
      ]
    },
    {
      "cell_type": "code",
      "metadata": {
        "id": "ImASw6aCd-V7"
      },
      "source": [
        "train= data[:training_datalen]\n",
        "valid=data[training_datalen:]\n",
        "valid['pred1']=pred1"
      ],
      "execution_count": 106,
      "outputs": []
    },
    {
      "cell_type": "code",
      "metadata": {
        "id": "r6wT-wuTgSiX",
        "colab": {
          "base_uri": "https://localhost:8080/",
          "height": 342
        },
        "outputId": "a8f36015-e5c3-4b1f-e1d7-b957c803ef6e"
      },
      "source": [
        "plt.figure(figsize=(8,4))\n",
        "plt.title(\"lSTM Model\")\n",
        "plt.xlabel(\"Date\",fontsize=18)\n",
        "plt.ylabel(\"unemployment rate\",fontsize=18)\n",
        "plt.plot(valid[['values','pred1']])\n",
        "plt.legend()\n",
        "plt.show()"
      ],
      "execution_count": 107,
      "outputs": [
        {
          "output_type": "stream",
          "text": [
            "No handles with labels found to put in legend.\n"
          ],
          "name": "stderr"
        },
        {
          "output_type": "display_data",
          "data": {
            "image/png": "[encoded data removed]",
            "text/plain": [
              "<Figure size 576x288 with 1 Axes>"
            ]
          },
          "metadata": {
            "tags": []
          }
        }
      ]
    },
    {
      "cell_type": "markdown",
      "metadata": {
        "id": "JcqLWK7jszG-"
      },
      "source": [
        "#ARIMA"
      ]
    },
    {
      "cell_type": "code",
      "metadata": {
        "id": "7YwtoPKbspGH"
      },
      "source": [
        "ts=df['values']\n",
        "train=ts[0:432]\n",
        "test= ts[432:len(ts)]"
      ],
      "execution_count": 108,
      "outputs": []
    },
    {
      "cell_type": "code",
      "metadata": {
        "id": "XkYNPjcQx6mr",
        "colab": {
          "base_uri": "https://localhost:8080/"
        },
        "outputId": "b1b96393-8dca-49ff-967a-0ef13ee2269d"
      },
      "source": [
        "len(test)"
      ],
      "execution_count": 109,
      "outputs": [
        {
          "output_type": "execute_result",
          "data": {
            "text/plain": [
              "36"
            ]
          },
          "metadata": {
            "tags": []
          },
          "execution_count": 109
        }
      ]
    },
    {
      "cell_type": "code",
      "metadata": {
        "id": "P5PAl-wAyf9L",
        "colab": {
          "base_uri": "https://localhost:8080/",
          "height": 1000
        },
        "outputId": "3a24dda0-c440-492f-d61f-a799aa785a67"
      },
      "source": [
        "from statsmodels.graphics.tsaplots import plot_acf,plot_pacf\n",
        "fig = plt.figure(figsize=(16,16))\n",
        "ax1 = fig.add_subplot(411)\n",
        "fig = plot_acf(df['values'],lags=200,ax=ax1)\n",
        "plt.title('Autocorrelation Lag=200')\n",
        "ax2 = fig.add_subplot(412)\n",
        "fig = plot_pacf(df['values'],lags=200,ax=ax2)\n",
        "plt.title('Partial Autocorrelation Lag=200')\n",
        "ax3 = fig.add_subplot(413)\n",
        "fig = plot_acf(df['values'],lags=15,ax=ax3)\n",
        "plt.title('Autocorrelation Lag=15')\n",
        "ax4 = fig.add_subplot(414)\n",
        "fig = plot_pacf(df['values'],lags=15,ax=ax4)\n",
        "plt.title('Partial Autocorrelation Lag=15')\n",
        "plt.subplots_adjust(left=None, bottom=None, right=None, top=None,\n",
        "                wspace=None, hspace=0.5)\n",
        "plt.show()"
      ],
      "execution_count": 110,
      "outputs": [
        {
          "output_type": "display_data",
          "data": {
            "image/png": "[encoded data removed]",
            "text/plain": [
              "<Figure size 1152x1152 with 4 Axes>"
            ]
          },
          "metadata": {
            "tags": []
          }
        }
      ]
    },
    {
      "cell_type": "code",
      "metadata": {
        "id": "TkKWY7bWzVvs"
      },
      "source": [
        "from statsmodels.tsa.stattools import adfuller,acf,pacf\n",
        "\n",
        "def test_stationarity(series,mlag =None, lag = None,):\n",
        "    print('ADF Test Result')\n",
        "    res = adfuller(series, maxlag = mlag, autolag = lag)\n",
        "    output = pd.Series(res[0:4],index = ['Test Statistic', 'p value', 'used lag', 'Number of observations used'])\n",
        "    for key, value in res[4].items():\n",
        "        output['Critical Value ' + key] = value\n",
        "    print(output)"
      ],
      "execution_count": 12,
      "outputs": []
    },
    {
      "cell_type": "code",
      "metadata": {
        "id": "_HKruhAnzXLp",
        "colab": {
          "base_uri": "https://localhost:8080/"
        },
        "outputId": "8bb18f8c-ea70-4a0d-f8ce-f1083212e948"
      },
      "source": [
        "test_stationarity(df['values'])"
      ],
      "execution_count": 13,
      "outputs": [
        {
          "output_type": "stream",
          "text": [
            "ADF Test Result\n",
            "Test Statistic                  -1.923819\n",
            "p value                          0.320940\n",
            "used lag                        18.000000\n",
            "Number of observations used    449.000000\n",
            "Critical Value 1%               -3.444998\n",
            "Critical Value 5%               -2.867999\n",
            "Critical Value 10%              -2.570210\n",
            "dtype: float64\n"
          ],
          "name": "stdout"
        }
      ]
    },
    {
      "cell_type": "code",
      "metadata": {
        "id": "nvcm0MXiy6uZ"
      },
      "source": [
        "import statsmodels.api as sm\n",
        "from statsmodels.tsa.arima_model import ARIMA\n",
        "import warnings\n",
        "warnings.filterwarnings(\"ignore\")\n",
        "plt.style.use(\"fivethirtyeight\")\n",
        "import statsmodels.api as sm\n",
        "import matplotlib\n",
        "matplotlib.rcParams['axes.labelsize']=14\n",
        "matplotlib.rcParams['xtick.labelsize']=12\n",
        "matplotlib.rcParams['ytick.labelsize']=12\n",
        "matplotlib.rcParams['text.color']='k'"
      ],
      "execution_count": 14,
      "outputs": []
    },
    {
      "cell_type": "code",
      "metadata": {
        "id": "TcfYPy6_gdy6"
      },
      "source": [
        "model= ARIMA(df, order=(1,1,1))"
      ],
      "execution_count": 85,
      "outputs": []
    },
    {
      "cell_type": "code",
      "metadata": {
        "id": "Dd5FDRXSgtAf"
      },
      "source": [
        "results=model.fit(disp=0)"
      ],
      "execution_count": 84,
      "outputs": []
    },
    {
      "cell_type": "code",
      "metadata": {
        "id": "8pdlbEVVkQ4c",
        "outputId": "3590aaf1-5bf7-42af-da80-91cc9c3d544d",
        "colab": {
          "base_uri": "https://localhost:8080/",
          "height": 284
        }
      },
      "source": [
        "results.summary()"
      ],
      "execution_count": 86,
      "outputs": [
        {
          "output_type": "execute_result",
          "data": {
            "text/html": [
              "<table class=\"simpletable\">\n",
              "<caption>ARIMA Model Results</caption>\n",
              "<tr>\n",
              "  <th>Dep. Variable:</th>        <td>D.y</td>       <th>  No. Observations:  </th>    <td>466</td>  \n",
              "</tr>\n",
              "<tr>\n",
              "  <th>Model:</th>          <td>ARIMA(1, 1, 0)</td>  <th>  Log Likelihood     </th>  <td>270.943</td>\n",
              "</tr>\n",
              "<tr>\n",
              "  <th>Method:</th>             <td>css-mle</td>     <th>  S.D. of innovations</th>   <td>0.135</td> \n",
              "</tr>\n",
              "<tr>\n",
              "  <th>Date:</th>          <td>Wed, 13 Jan 2021</td> <th>  AIC                </th> <td>-535.886</td>\n",
              "</tr>\n",
              "<tr>\n",
              "  <th>Time:</th>              <td>12:02:18</td>     <th>  BIC                </th> <td>-523.454</td>\n",
              "</tr>\n",
              "<tr>\n",
              "  <th>Sample:</th>                <td>1</td>        <th>  HQIC               </th> <td>-530.993</td>\n",
              "</tr>\n",
              "<tr>\n",
              "  <th></th>                       <td> </td>        <th>                     </th>     <td> </td>   \n",
              "</tr>\n",
              "</table>\n",
              "<table class=\"simpletable\">\n",
              "<tr>\n",
              "      <td></td>         <th>coef</th>     <th>std err</th>      <th>z</th>      <th>P>|z|</th>  <th>[0.025</th>    <th>0.975]</th>  \n",
              "</tr>\n",
              "<tr>\n",
              "  <th>const</th>     <td>    0.0039</td> <td>    0.008</td> <td>    0.473</td> <td> 0.636</td> <td>   -0.012</td> <td>    0.020</td>\n",
              "</tr>\n",
              "<tr>\n",
              "  <th>ar.L1.D.y</th> <td>    0.2469</td> <td>    0.045</td> <td>    5.499</td> <td> 0.000</td> <td>    0.159</td> <td>    0.335</td>\n",
              "</tr>\n",
              "</table>\n",
              "<table class=\"simpletable\">\n",
              "<caption>Roots</caption>\n",
              "<tr>\n",
              "    <td></td>   <th>            Real</th>  <th>         Imaginary</th> <th>         Modulus</th>  <th>        Frequency</th>\n",
              "</tr>\n",
              "<tr>\n",
              "  <th>AR.1</th> <td>           4.0510</td> <td>          +0.0000j</td> <td>           4.0510</td> <td>           0.0000</td>\n",
              "</tr>\n",
              "</table>"
            ],
            "text/plain": [
              "<class 'statsmodels.iolib.summary.Summary'>\n",
              "\"\"\"\n",
              "                             ARIMA Model Results                              \n",
              "==============================================================================\n",
              "Dep. Variable:                    D.y   No. Observations:                  466\n",
              "Model:                 ARIMA(1, 1, 0)   Log Likelihood                 270.943\n",
              "Method:                       css-mle   S.D. of innovations              0.135\n",
              "Date:                Wed, 13 Jan 2021   AIC                           -535.886\n",
              "Time:                        12:02:18   BIC                           -523.454\n",
              "Sample:                             1   HQIC                          -530.993\n",
              "                                                                              \n",
              "==============================================================================\n",
              "                 coef    std err          z      P>|z|      [0.025      0.975]\n",
              "------------------------------------------------------------------------------\n",
              "const          0.0039      0.008      0.473      0.636      -0.012       0.020\n",
              "ar.L1.D.y      0.2469      0.045      5.499      0.000       0.159       0.335\n",
              "                                    Roots                                    \n",
              "=============================================================================\n",
              "                  Real          Imaginary           Modulus         Frequency\n",
              "-----------------------------------------------------------------------------\n",
              "AR.1            4.0510           +0.0000j            4.0510            0.0000\n",
              "-----------------------------------------------------------------------------\n",
              "\"\"\""
            ]
          },
          "metadata": {
            "tags": []
          },
          "execution_count": 86
        }
      ]
    },
    {
      "cell_type": "code",
      "metadata": {
        "id": "Q0c9nYrLnfVS"
      },
      "source": [
        "train=train.values"
      ],
      "execution_count": 77,
      "outputs": []
    },
    {
      "cell_type": "code",
      "metadata": {
        "id": "t0cGZMIdya8V",
        "colab": {
          "base_uri": "https://localhost:8080/"
        },
        "outputId": "6493f824-760a-437b-d671-370051d0d49b"
      },
      "source": [
        "history=[x for x in train]\n",
        "predictions=list()\n",
        "\n",
        "for t in range(len(test)):\n",
        "  model=ARIMA(history,order=(1,1,0))\n",
        "  model_fit=model.fit(disp=0)\n",
        "  output=model_fit.forecast()\n",
        "  yhat=output[0]\n",
        "  predictions.append(yhat)\n",
        "  obs=test[t]\n",
        "  history.append(obs)\n",
        "  print('predicted=%f, expected=%f'%(yhat,obs))"
      ],
      "execution_count": 82,
      "outputs": [
        {
          "output_type": "stream",
          "text": [
            "predicted=6.305511, expected=6.200000\n",
            "predicted=6.180379, expected=6.200000\n",
            "predicted=6.205314, expected=6.200000\n",
            "predicted=6.205301, expected=6.200000\n",
            "predicted=6.205289, expected=6.100000\n",
            "predicted=6.080174, expected=6.100000\n",
            "predicted=6.105094, expected=6.100000\n",
            "predicted=6.105083, expected=6.000000\n",
            "predicted=5.979984, expected=6.000000\n",
            "predicted=6.004890, expected=6.000000\n",
            "predicted=6.004879, expected=6.000000\n",
            "predicted=6.004868, expected=6.000000\n",
            "predicted=6.004857, expected=5.900000\n",
            "predicted=5.879776, expected=5.900000\n",
            "predicted=5.904668, expected=5.800000\n",
            "predicted=5.779604, expected=5.800000\n",
            "predicted=5.804480, expected=5.700000\n",
            "predicted=5.679434, expected=5.700000\n",
            "predicted=5.704294, expected=5.700000\n",
            "predicted=5.704284, expected=5.700000\n",
            "predicted=5.704275, expected=5.600000\n",
            "predicted=5.579248, expected=5.600000\n",
            "predicted=5.604091, expected=5.500000\n",
            "predicted=5.479083, expected=5.500000\n",
            "predicted=5.503909, expected=5.400000\n",
            "predicted=5.378921, expected=5.400000\n",
            "predicted=5.403728, expected=5.300000\n",
            "predicted=5.278760, expected=5.300000\n",
            "predicted=5.303549, expected=5.200000\n",
            "predicted=5.178601, expected=5.200000\n",
            "predicted=5.203372, expected=5.200000\n",
            "predicted=5.203365, expected=5.200000\n",
            "predicted=5.203357, expected=5.100000\n",
            "predicted=5.078430, expected=5.100000\n",
            "predicted=5.103182, expected=5.000000\n",
            "predicted=4.978275, expected=5.000000\n"
          ],
          "name": "stdout"
        }
      ]
    },
    {
      "cell_type": "code",
      "metadata": {
        "id": "JXWVFb9i3LTA",
        "colab": {
          "base_uri": "https://localhost:8080/",
          "height": 302
        },
        "outputId": "9e9dc6cc-7fca-4ce3-9e2a-7fb8184c1f10"
      },
      "source": [
        "plt.figure(figsize=(8,4))\n",
        "plt.title(\"ARIMA Model\")\n",
        "plt.plot(test)\n",
        "plt.plot(predictions, color='red')\n",
        "plt.show()"
      ],
      "execution_count": 40,
      "outputs": [
        {
          "output_type": "display_data",
          "data": {
            "image/png": "[encoded data removed]",
            "text/plain": [
              "<Figure size 576x288 with 1 Axes>"
            ]
          },
          "metadata": {
            "tags": []
          }
        }
      ]
    },
    {
      "cell_type": "markdown",
      "metadata": {
        "id": "BRvYrNx92gGz"
      },
      "source": [
        "ERROR FOR ARIMA"
      ]
    },
    {
      "cell_type": "code",
      "metadata": {
        "id": "fs8hBTfNzI0j",
        "colab": {
          "base_uri": "https://localhost:8080/"
        },
        "outputId": "cddeca37-abea-4d2c-93d8-51c0a4bbda12"
      },
      "source": [
        "from sklearn.metrics import mean_squared_error\n",
        "error=mean_squared_error(test,predictions)\n",
        "print(\"MSE:\",error)\n",
        "\n",
        "print(\"RMSE:\",np.sqrt(error))"
      ],
      "execution_count": 83,
      "outputs": [
        {
          "output_type": "stream",
          "text": [
            "MSE: 0.004090065865363893\n",
            "RMSE: 0.06395362276965937\n"
          ],
          "name": "stdout"
        }
      ]
    },
    {
      "cell_type": "markdown",
      "metadata": {
        "id": "bERE5JPI2bye"
      },
      "source": [
        "FOR LSTM"
      ]
    },
    {
      "cell_type": "code",
      "metadata": {
        "id": "H87w0Czn2Tar"
      },
      "source": [
        "from sklearn.metrics import mean_squared_error\n",
        "error=mean_squared_error(test,pred1)\n",
        "print(\"MSE:\",error)\n",
        "\n",
        "print(\"RMSE:\",np.sqrt(error))"
      ],
      "execution_count": null,
      "outputs": []
    },
    {
      "cell_type": "markdown",
      "metadata": {
        "id": "iaa3HG5zzfbB"
      },
      "source": [
        "#HYBRID # ARIMA-LSTM\n"
      ]
    },
    {
      "cell_type": "code",
      "metadata": {
        "id": "HHIt9hi2zMuO"
      },
      "source": [
        "NEW_PREDICTION= (pred1+predictions)/2"
      ],
      "execution_count": 111,
      "outputs": []
    },
    {
      "cell_type": "code",
      "metadata": {
        "id": "fgTNxEJZzyDR",
        "colab": {
          "base_uri": "https://localhost:8080/"
        },
        "outputId": "3f3c32e3-9fe3-4b2a-ed4a-f7c7af86604c"
      },
      "source": [
        "from sklearn.metrics import mean_squared_error\n",
        "error=mean_squared_error(test,NEW_PREDICTION)\n",
        "print(\"MSE:\",error)\n",
        "\n",
        "print(\"RMSE:\",np.sqrt(error))"
      ],
      "execution_count": 112,
      "outputs": [
        {
          "output_type": "stream",
          "text": [
            "MSE: 0.005719041772789781\n",
            "RMSE: 0.0756243464288438\n"
          ],
          "name": "stdout"
        }
      ]
    },
    {
      "cell_type": "code",
      "metadata": {
        "id": "A1wch6_230En",
        "colab": {
          "base_uri": "https://localhost:8080/",
          "height": 302
        },
        "outputId": "fa07f120-2c53-46af-cab1-852f22ebe02f"
      },
      "source": [
        "plt.figure(figsize=(8,4))\n",
        "plt.title(\"HYBRID Model\")\n",
        "plt.plot(test)\n",
        "plt.plot(NEW_PREDICTION, color='red')\n",
        "plt.show()"
      ],
      "execution_count": null,
      "outputs": [
        {
          "output_type": "display_data",
          "data": {
            "image/png": "[encoded data removed]",
            "text/plain": [
              "<Figure size 576x288 with 1 Axes>"
            ]
          },
          "metadata": {
            "tags": []
          }
        }
      ]
    },
    {
      "cell_type": "code",
      "metadata": {
        "id": "A5fO2NdWkhxa"
      },
      "source": [
        ""
      ],
      "execution_count": null,
      "outputs": []
    }
  ]
}