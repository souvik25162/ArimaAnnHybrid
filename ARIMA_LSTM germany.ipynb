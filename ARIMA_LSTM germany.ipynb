{
  "nbformat": 4,
  "nbformat_minor": 0,
  "metadata": {
    "colab": {
      "name": "ARIMA-LSTM.ipynb",
      "provenance": [],
      "authorship_tag": "ABX9TyNSZVfnXL3HCmd8g9OPjUjG",
      "include_colab_link": true
    },
    "kernelspec": {
      "name": "python3",
      "display_name": "Python 3"
    }
  },
  "cells": [
    {
      "cell_type": "markdown",
      "metadata": {
        "id": "view-in-github",
        "colab_type": "text"
      },
      "source": [
        "<a href=\"https://colab.research.google.com/github/souvik25162/ArimaAnnHybrid/blob/master/ARIMA_LSTM%20germany.ipynb\" target=\"_parent\"><img src=\"https://colab.research.google.com/assets/colab-badge.svg\" alt=\"Open In Colab\"/></a>"
      ]
    },
    {
      "cell_type": "code",
      "metadata": {
        "id": "vs1tGLuWsMeE",
        "colab_type": "code",
        "colab": {
          "base_uri": "https://localhost:8080/",
          "height": 284
        },
        "outputId": "fdaf034b-0704-49f5-af9e-06420a87c765"
      },
      "source": [
        "pip install statsmodels --upgrade"
      ],
      "execution_count": 1,
      "outputs": [
        {
          "output_type": "stream",
          "text": [
            "Collecting statsmodels\n",
            "\u001b[?25l  Downloading https://files.pythonhosted.org/packages/00/93/1b6882f92d94e491a3e3be101fc83934551eada261281980f3957246432f/statsmodels-0.12.0-cp36-cp36m-manylinux1_x86_64.whl (9.5MB)\n",
            "\u001b[K     |████████████████████████████████| 9.5MB 2.7MB/s \n",
            "\u001b[?25hRequirement already satisfied, skipping upgrade: patsy>=0.5 in /usr/local/lib/python3.6/dist-packages (from statsmodels) (0.5.1)\n",
            "Requirement already satisfied, skipping upgrade: numpy>=1.15 in /usr/local/lib/python3.6/dist-packages (from statsmodels) (1.18.5)\n",
            "Requirement already satisfied, skipping upgrade: pandas>=0.21 in /usr/local/lib/python3.6/dist-packages (from statsmodels) (1.0.5)\n",
            "Requirement already satisfied, skipping upgrade: scipy>=1.1 in /usr/local/lib/python3.6/dist-packages (from statsmodels) (1.4.1)\n",
            "Requirement already satisfied, skipping upgrade: six in /usr/local/lib/python3.6/dist-packages (from patsy>=0.5->statsmodels) (1.15.0)\n",
            "Requirement already satisfied, skipping upgrade: pytz>=2017.2 in /usr/local/lib/python3.6/dist-packages (from pandas>=0.21->statsmodels) (2018.9)\n",
            "Requirement already satisfied, skipping upgrade: python-dateutil>=2.6.1 in /usr/local/lib/python3.6/dist-packages (from pandas>=0.21->statsmodels) (2.8.1)\n",
            "Installing collected packages: statsmodels\n",
            "  Found existing installation: statsmodels 0.10.2\n",
            "    Uninstalling statsmodels-0.10.2:\n",
            "      Successfully uninstalled statsmodels-0.10.2\n",
            "Successfully installed statsmodels-0.12.0\n"
          ],
          "name": "stdout"
        }
      ]
    },
    {
      "cell_type": "code",
      "metadata": {
        "id": "yv_NAQzrsRc-",
        "colab_type": "code",
        "colab": {}
      },
      "source": [
        "pip install pymc3 --upgrade"
      ],
      "execution_count": null,
      "outputs": []
    },
    {
      "cell_type": "code",
      "metadata": {
        "id": "YNR34Ka5fN-X",
        "colab_type": "code",
        "colab": {}
      },
      "source": [
        "import numpy as np\n",
        "import pandas as pd\n",
        "import matplotlib.pyplot as plt\n",
        "import keras\n",
        "from keras.layers import Dense,Dropout,LSTM\n",
        "from keras.models import Sequential\n",
        "from sklearn.preprocessing import MinMaxScaler,StandardScaler\n",
        "plt.style.use('fivethirtyeight')"
      ],
      "execution_count": 2,
      "outputs": []
    },
    {
      "cell_type": "code",
      "metadata": {
        "id": "bsz_OtldfR8l",
        "colab_type": "code",
        "colab": {
          "resources": {
            "http://localhost:8080/nbextensions/google.colab/files.js": {
              "data": "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",
              "ok": true,
              "headers": [
                [
                  "content-type",
                  "application/javascript"
                ]
              ],
              "status": 200,
              "status_text": ""
            }
          },
          "base_uri": "https://localhost:8080/",
          "height": 250
        },
        "outputId": "13ae714e-2d6a-4e72-e541-5ac665d08035"
      },
      "source": [
        "from google.colab import files\n",
        "uploaded=files.upload()\n",
        "df=pd.read_excel('germany.xlsx')\n",
        "##df.rename(columns={'LMUNRRTTCHM156S':'values'},inplace=True)\n",
        "df.head()"
      ],
      "execution_count": 6,
      "outputs": [
        {
          "output_type": "display_data",
          "data": {
            "text/html": [
              "\n",
              "     <input type=\"file\" id=\"files-6afbed8e-6269-4f5d-b9b1-b6bca952be9b\" name=\"files[]\" multiple disabled\n",
              "        style=\"border:none\" />\n",
              "     <output id=\"result-6afbed8e-6269-4f5d-b9b1-b6bca952be9b\">\n",
              "      Upload widget is only available when the cell has been executed in the\n",
              "      current browser session. Please rerun this cell to enable.\n",
              "      </output>\n",
              "      <script src=\"/nbextensions/google.colab/files.js\"></script> "
            ],
            "text/plain": [
              "<IPython.core.display.HTML object>"
            ]
          },
          "metadata": {
            "tags": []
          }
        },
        {
          "output_type": "stream",
          "text": [
            "Saving germany.xlsx to germany (2).xlsx\n"
          ],
          "name": "stdout"
        },
        {
          "output_type": "execute_result",
          "data": {
            "text/html": [
              "<div>\n",
              "<style scoped>\n",
              "    .dataframe tbody tr th:only-of-type {\n",
              "        vertical-align: middle;\n",
              "    }\n",
              "\n",
              "    .dataframe tbody tr th {\n",
              "        vertical-align: top;\n",
              "    }\n",
              "\n",
              "    .dataframe thead th {\n",
              "        text-align: right;\n",
              "    }\n",
              "</style>\n",
              "<table border=\"1\" class=\"dataframe\">\n",
              "  <thead>\n",
              "    <tr style=\"text-align: right;\">\n",
              "      <th></th>\n",
              "      <th>DATE</th>\n",
              "      <th>values</th>\n",
              "    </tr>\n",
              "  </thead>\n",
              "  <tbody>\n",
              "    <tr>\n",
              "      <th>0</th>\n",
              "      <td>1980-01-01</td>\n",
              "      <td>3.1</td>\n",
              "    </tr>\n",
              "    <tr>\n",
              "      <th>1</th>\n",
              "      <td>1980-02-01</td>\n",
              "      <td>3.0</td>\n",
              "    </tr>\n",
              "    <tr>\n",
              "      <th>2</th>\n",
              "      <td>1980-03-01</td>\n",
              "      <td>3.1</td>\n",
              "    </tr>\n",
              "    <tr>\n",
              "      <th>3</th>\n",
              "      <td>1980-04-01</td>\n",
              "      <td>3.2</td>\n",
              "    </tr>\n",
              "    <tr>\n",
              "      <th>4</th>\n",
              "      <td>1980-05-01</td>\n",
              "      <td>3.3</td>\n",
              "    </tr>\n",
              "  </tbody>\n",
              "</table>\n",
              "</div>"
            ],
            "text/plain": [
              "        DATE  values\n",
              "0 1980-01-01     3.1\n",
              "1 1980-02-01     3.0\n",
              "2 1980-03-01     3.1\n",
              "3 1980-04-01     3.2\n",
              "4 1980-05-01     3.3"
            ]
          },
          "metadata": {
            "tags": []
          },
          "execution_count": 6
        }
      ]
    },
    {
      "cell_type": "code",
      "metadata": {
        "id": "b9cp-XLyyBxw",
        "colab_type": "code",
        "colab": {}
      },
      "source": [
        "#df.rename(columns={'japan':'values'},inplace=True)"
      ],
      "execution_count": null,
      "outputs": []
    },
    {
      "cell_type": "code",
      "metadata": {
        "id": "qh4802N2XdO4",
        "colab_type": "code",
        "colab": {}
      },
      "source": [
        "df['DATE']=pd.to_datetime(df['DATE'])"
      ],
      "execution_count": 7,
      "outputs": []
    },
    {
      "cell_type": "code",
      "metadata": {
        "id": "JDWrU9_yYDIB",
        "colab_type": "code",
        "colab": {
          "base_uri": "https://localhost:8080/",
          "height": 194
        },
        "outputId": "ea7fbe53-5402-4bc5-81db-696598ab8715"
      },
      "source": [
        "df.head()"
      ],
      "execution_count": 8,
      "outputs": [
        {
          "output_type": "execute_result",
          "data": {
            "text/html": [
              "<div>\n",
              "<style scoped>\n",
              "    .dataframe tbody tr th:only-of-type {\n",
              "        vertical-align: middle;\n",
              "    }\n",
              "\n",
              "    .dataframe tbody tr th {\n",
              "        vertical-align: top;\n",
              "    }\n",
              "\n",
              "    .dataframe thead th {\n",
              "        text-align: right;\n",
              "    }\n",
              "</style>\n",
              "<table border=\"1\" class=\"dataframe\">\n",
              "  <thead>\n",
              "    <tr style=\"text-align: right;\">\n",
              "      <th></th>\n",
              "      <th>DATE</th>\n",
              "      <th>values</th>\n",
              "    </tr>\n",
              "  </thead>\n",
              "  <tbody>\n",
              "    <tr>\n",
              "      <th>0</th>\n",
              "      <td>1980-01-01</td>\n",
              "      <td>3.1</td>\n",
              "    </tr>\n",
              "    <tr>\n",
              "      <th>1</th>\n",
              "      <td>1980-02-01</td>\n",
              "      <td>3.0</td>\n",
              "    </tr>\n",
              "    <tr>\n",
              "      <th>2</th>\n",
              "      <td>1980-03-01</td>\n",
              "      <td>3.1</td>\n",
              "    </tr>\n",
              "    <tr>\n",
              "      <th>3</th>\n",
              "      <td>1980-04-01</td>\n",
              "      <td>3.2</td>\n",
              "    </tr>\n",
              "    <tr>\n",
              "      <th>4</th>\n",
              "      <td>1980-05-01</td>\n",
              "      <td>3.3</td>\n",
              "    </tr>\n",
              "  </tbody>\n",
              "</table>\n",
              "</div>"
            ],
            "text/plain": [
              "        DATE  values\n",
              "0 1980-01-01     3.1\n",
              "1 1980-02-01     3.0\n",
              "2 1980-03-01     3.1\n",
              "3 1980-04-01     3.2\n",
              "4 1980-05-01     3.3"
            ]
          },
          "metadata": {
            "tags": []
          },
          "execution_count": 8
        }
      ]
    },
    {
      "cell_type": "code",
      "metadata": {
        "id": "w-Nup_Zso2pb",
        "colab_type": "code",
        "colab": {
          "base_uri": "https://localhost:8080/",
          "height": 343
        },
        "outputId": "5158f90d-aac6-41c2-b21e-fab1cc9c0b92"
      },
      "source": [
        "plt.figure(figsize=(8,4))\n",
        "plt.title(\"Unemployment Rate\")\n",
        "plt.plot(df['values'])\n",
        "plt.xlabel('date',fontsize=18)"
      ],
      "execution_count": 9,
      "outputs": [
        {
          "output_type": "execute_result",
          "data": {
            "text/plain": [
              "Text(0.5, 0, 'date')"
            ]
          },
          "metadata": {
            "tags": []
          },
          "execution_count": 9
        },
        {
          "output_type": "display_data",
          "data": {
            "image/png": "[encoded data removed]",
            "text/plain": [
              "<Figure size 576x288 with 1 Axes>"
            ]
          },
          "metadata": {
            "tags": []
          }
        }
      ]
    },
    {
      "cell_type": "code",
      "metadata": {
        "id": "CKjYDKU7qkgZ",
        "colab_type": "code",
        "colab": {}
      },
      "source": [
        "data=df.filter(['values'])"
      ],
      "execution_count": 10,
      "outputs": []
    },
    {
      "cell_type": "code",
      "metadata": {
        "id": "KLgq4_dwyMrh",
        "colab_type": "code",
        "colab": {
          "base_uri": "https://localhost:8080/",
          "height": 35
        },
        "outputId": "0bb68b29-1f32-40c5-959b-c67cfba61e57"
      },
      "source": [
        "len(df)"
      ],
      "execution_count": 11,
      "outputs": [
        {
          "output_type": "execute_result",
          "data": {
            "text/plain": [
              "468"
            ]
          },
          "metadata": {
            "tags": []
          },
          "execution_count": 11
        }
      ]
    },
    {
      "cell_type": "code",
      "metadata": {
        "id": "JHMGDJRxruzh",
        "colab_type": "code",
        "colab": {}
      },
      "source": [
        "dataset=data.values"
      ],
      "execution_count": 12,
      "outputs": []
    },
    {
      "cell_type": "code",
      "metadata": {
        "id": "d_XchZ-zry7a",
        "colab_type": "code",
        "colab": {
          "base_uri": "https://localhost:8080/",
          "height": 35
        },
        "outputId": "79a0b735-ae25-4289-950e-a225d13c133e"
      },
      "source": [
        "import math\n",
        "training_datalen=432\n",
        "print(training_datalen)"
      ],
      "execution_count": 13,
      "outputs": [
        {
          "output_type": "stream",
          "text": [
            "432\n"
          ],
          "name": "stdout"
        }
      ]
    },
    {
      "cell_type": "code",
      "metadata": {
        "id": "6PYUd9XksDMB",
        "colab_type": "code",
        "colab": {}
      },
      "source": [
        "from sklearn.preprocessing import MinMaxScaler\n",
        "scaler=MinMaxScaler(feature_range=(0,1))\n",
        "scaled_data=scaler.fit_transform(dataset)"
      ],
      "execution_count": 64,
      "outputs": []
    },
    {
      "cell_type": "code",
      "metadata": {
        "id": "79pdHP5vMGuv",
        "colab_type": "code",
        "colab": {}
      },
      "source": [
        "train_data= scaled_data[0:432,:]\n",
        "time_step=30\n",
        "test_data= scaled_data[training_datalen-time_step:,:]"
      ],
      "execution_count": 65,
      "outputs": []
    },
    {
      "cell_type": "code",
      "metadata": {
        "id": "PkfX1RJnNewP",
        "colab_type": "code",
        "colab": {
          "base_uri": "https://localhost:8080/",
          "height": 35
        },
        "outputId": "b744469b-e7f3-4c47-89e2-7c0714ed8e1a"
      },
      "source": [
        "len(test_data)"
      ],
      "execution_count": 66,
      "outputs": [
        {
          "output_type": "execute_result",
          "data": {
            "text/plain": [
              "66"
            ]
          },
          "metadata": {
            "tags": []
          },
          "execution_count": 66
        }
      ]
    },
    {
      "cell_type": "code",
      "metadata": {
        "id": "4rzfILXBNh_U",
        "colab_type": "code",
        "colab": {
          "base_uri": "https://localhost:8080/",
          "height": 159
        },
        "outputId": "06ec5ace-42b2-4b7c-b037-0782e929c1bc"
      },
      "source": [
        "x_train=[]\n",
        "y_train=[]\n",
        "for i in range(time_step,len(train_data)):\n",
        "  x_train.append(train_data[i-time_step:i,0])\n",
        "  y_train.append(train_data[i,0])\n",
        "  if i<=time_step:\n",
        "    print(x_train)\n",
        "    print(y_train)\n",
        "    print()"
      ],
      "execution_count": 67,
      "outputs": [
        {
          "output_type": "stream",
          "text": [
            "[array([0.01098901, 0.        , 0.01098901, 0.02197802, 0.03296703,\n",
            "       0.03296703, 0.04395604, 0.05494505, 0.05494505, 0.06593407,\n",
            "       0.08791209, 0.0989011 , 0.10989011, 0.12087912, 0.14285714,\n",
            "       0.15384615, 0.17582418, 0.18681319, 0.20879121, 0.23076923,\n",
            "       0.25274725, 0.27472527, 0.30769231, 0.32967033, 0.34065934,\n",
            "       0.35164835, 0.36263736, 0.37362637, 0.38461538, 0.3956044 ])]\n",
            "[0.40659340659340665]\n",
            "\n"
          ],
          "name": "stdout"
        }
      ]
    },
    {
      "cell_type": "code",
      "metadata": {
        "id": "8ViOunESPfoE",
        "colab_type": "code",
        "colab": {}
      },
      "source": [
        "x_train=np.array(x_train)\n",
        "y_train=np.array(y_train)"
      ],
      "execution_count": 68,
      "outputs": []
    },
    {
      "cell_type": "code",
      "metadata": {
        "id": "xrueSFmLPtkQ",
        "colab_type": "code",
        "colab": {
          "base_uri": "https://localhost:8080/",
          "height": 35
        },
        "outputId": "25354ca7-1cab-4975-f50f-3ae830dd2135"
      },
      "source": [
        "x_train.shape"
      ],
      "execution_count": 69,
      "outputs": [
        {
          "output_type": "execute_result",
          "data": {
            "text/plain": [
              "(402, 30)"
            ]
          },
          "metadata": {
            "tags": []
          },
          "execution_count": 69
        }
      ]
    },
    {
      "cell_type": "code",
      "metadata": {
        "id": "z8NssMD9QIz5",
        "colab_type": "code",
        "colab": {}
      },
      "source": [
        "x_train= np.reshape(x_train,(x_train.shape[0],x_train.shape[1],1))"
      ],
      "execution_count": 70,
      "outputs": []
    },
    {
      "cell_type": "code",
      "metadata": {
        "id": "-hvELGZIRWkR",
        "colab_type": "code",
        "colab": {
          "base_uri": "https://localhost:8080/",
          "height": 35
        },
        "outputId": "8e965e21-f6ea-41ed-a580-e4d3d2f687a7"
      },
      "source": [
        "x_train.shape"
      ],
      "execution_count": 71,
      "outputs": [
        {
          "output_type": "execute_result",
          "data": {
            "text/plain": [
              "(402, 30, 1)"
            ]
          },
          "metadata": {
            "tags": []
          },
          "execution_count": 71
        }
      ]
    },
    {
      "cell_type": "code",
      "metadata": {
        "id": "A-RpjdCQS883",
        "colab_type": "code",
        "colab": {}
      },
      "source": [
        "model=Sequential()\n",
        "model.add(LSTM(units=50,return_sequences=True,input_shape=(x_train.shape[1],1)))\n",
        "model.add(LSTM(units=50,return_sequences=False))\n",
        "model.add(Dense(25))\n",
        "model.add(Dense(1))"
      ],
      "execution_count": 72,
      "outputs": []
    },
    {
      "cell_type": "code",
      "metadata": {
        "id": "hgLTk93PTGuM",
        "colab_type": "code",
        "colab": {}
      },
      "source": [
        "model.compile(optimizer='adam',loss='mean_squared_error')"
      ],
      "execution_count": 73,
      "outputs": []
    },
    {
      "cell_type": "code",
      "metadata": {
        "id": "fniE8pxuTR4x",
        "colab_type": "code",
        "colab": {
          "base_uri": "https://localhost:8080/",
          "height": 1000
        },
        "outputId": "e38aef3e-5de2-4990-e15b-95e4bfa7c1f5"
      },
      "source": [
        "model.fit(x_train,y_train,batch_size=1,epochs=30)"
      ],
      "execution_count": 74,
      "outputs": [
        {
          "output_type": "stream",
          "text": [
            "Epoch 1/30\n",
            "402/402 [==============================] - 5s 11ms/step - loss: 0.0074\n",
            "Epoch 2/30\n",
            "402/402 [==============================] - 4s 11ms/step - loss: 0.0025\n",
            "Epoch 3/30\n",
            "402/402 [==============================] - 4s 10ms/step - loss: 0.0017\n",
            "Epoch 4/30\n",
            "402/402 [==============================] - 5s 12ms/step - loss: 0.0010\n",
            "Epoch 5/30\n",
            "402/402 [==============================] - 5s 13ms/step - loss: 0.0010\n",
            "Epoch 6/30\n",
            "402/402 [==============================] - 5s 13ms/step - loss: 9.3216e-04\n",
            "Epoch 7/30\n",
            "402/402 [==============================] - 5s 13ms/step - loss: 7.0232e-04\n",
            "Epoch 8/30\n",
            "402/402 [==============================] - 5s 11ms/step - loss: 6.6327e-04\n",
            "Epoch 9/30\n",
            "402/402 [==============================] - 4s 10ms/step - loss: 6.2842e-04\n",
            "Epoch 10/30\n",
            "402/402 [==============================] - 4s 10ms/step - loss: 6.2592e-04\n",
            "Epoch 11/30\n",
            "402/402 [==============================] - 5s 11ms/step - loss: 6.8077e-04\n",
            "Epoch 12/30\n",
            "402/402 [==============================] - 5s 13ms/step - loss: 6.6787e-04\n",
            "Epoch 13/30\n",
            "402/402 [==============================] - 5s 13ms/step - loss: 4.7557e-04\n",
            "Epoch 14/30\n",
            "402/402 [==============================] - 5s 13ms/step - loss: 4.5491e-04\n",
            "Epoch 15/30\n",
            "402/402 [==============================] - 5s 12ms/step - loss: 4.7865e-04\n",
            "Epoch 16/30\n",
            "402/402 [==============================] - 4s 11ms/step - loss: 4.5726e-04\n",
            "Epoch 17/30\n",
            "402/402 [==============================] - 4s 11ms/step - loss: 5.1744e-04\n",
            "Epoch 18/30\n",
            "402/402 [==============================] - 4s 10ms/step - loss: 5.1250e-04\n",
            "Epoch 19/30\n",
            "402/402 [==============================] - 5s 13ms/step - loss: 5.0334e-04\n",
            "Epoch 20/30\n",
            "402/402 [==============================] - 5s 13ms/step - loss: 4.4020e-04\n",
            "Epoch 21/30\n",
            "402/402 [==============================] - 5s 13ms/step - loss: 4.6299e-04\n",
            "Epoch 22/30\n",
            "402/402 [==============================] - 5s 13ms/step - loss: 6.1379e-04\n",
            "Epoch 23/30\n",
            "402/402 [==============================] - 5s 14ms/step - loss: 4.0507e-04\n",
            "Epoch 24/30\n",
            "402/402 [==============================] - 5s 12ms/step - loss: 4.3076e-04\n",
            "Epoch 25/30\n",
            "402/402 [==============================] - 4s 11ms/step - loss: 4.1960e-04\n",
            "Epoch 26/30\n",
            "402/402 [==============================] - 4s 11ms/step - loss: 4.3762e-04\n",
            "Epoch 27/30\n",
            "402/402 [==============================] - 4s 11ms/step - loss: 4.5058e-04\n",
            "Epoch 28/30\n",
            "402/402 [==============================] - 4s 11ms/step - loss: 4.1951e-04\n",
            "Epoch 29/30\n",
            "402/402 [==============================] - 4s 11ms/step - loss: 3.7924e-04\n",
            "Epoch 30/30\n",
            "402/402 [==============================] - 4s 11ms/step - loss: 4.1444e-04\n"
          ],
          "name": "stdout"
        },
        {
          "output_type": "execute_result",
          "data": {
            "text/plain": [
              "<tensorflow.python.keras.callbacks.History at 0x7f5d0cf68710>"
            ]
          },
          "metadata": {
            "tags": []
          },
          "execution_count": 74
        }
      ]
    },
    {
      "cell_type": "code",
      "metadata": {
        "id": "pP3Weo7qTbl6",
        "colab_type": "code",
        "colab": {}
      },
      "source": [
        "x_test=[]\n",
        "y_test= dataset[training_datalen:,:]\n",
        "for i in range(time_step,len(test_data)):\n",
        "  x_test.append(test_data[i-time_step:i,0])"
      ],
      "execution_count": 81,
      "outputs": []
    },
    {
      "cell_type": "code",
      "metadata": {
        "id": "yhxOQJd_WBO_",
        "colab_type": "code",
        "colab": {}
      },
      "source": [
        "x_test=np.array(x_test)"
      ],
      "execution_count": 82,
      "outputs": []
    },
    {
      "cell_type": "code",
      "metadata": {
        "id": "2_dHWVqsWGL6",
        "colab_type": "code",
        "colab": {}
      },
      "source": [
        "x_test=np.reshape(x_test,(x_test.shape[0],x_test.shape[1],1))"
      ],
      "execution_count": 84,
      "outputs": []
    },
    {
      "cell_type": "code",
      "metadata": {
        "id": "KsEbRAWTWQTV",
        "colab_type": "code",
        "colab": {}
      },
      "source": [
        "pred= model.predict(x_test)\n",
        "pred1=scaler.inverse_transform(pred)"
      ],
      "execution_count": 85,
      "outputs": []
    },
    {
      "cell_type": "code",
      "metadata": {
        "id": "ziH70DUk0i3l",
        "colab_type": "code",
        "colab": {
          "base_uri": "https://localhost:8080/",
          "height": 35
        },
        "outputId": "1b293590-89f6-4391-d3d5-e8aaed0102d7"
      },
      "source": [
        "len(pred1)"
      ],
      "execution_count": 29,
      "outputs": [
        {
          "output_type": "execute_result",
          "data": {
            "text/plain": [
              "36"
            ]
          },
          "metadata": {
            "tags": []
          },
          "execution_count": 29
        }
      ]
    },
    {
      "cell_type": "code",
      "metadata": {
        "id": "ImASw6aCd-V7",
        "colab_type": "code",
        "colab": {}
      },
      "source": [
        "train= data[:training_datalen]\n",
        "valid=data[training_datalen:]\n",
        "valid['pred1']=pred1"
      ],
      "execution_count": 86,
      "outputs": []
    },
    {
      "cell_type": "code",
      "metadata": {
        "id": "r6wT-wuTgSiX",
        "colab_type": "code",
        "colab": {
          "base_uri": "https://localhost:8080/",
          "height": 342
        },
        "outputId": "08c57f41-f7d7-4d4b-adc9-27ef4dfa2e7e"
      },
      "source": [
        "plt.figure(figsize=(8,4))\n",
        "plt.title(\"lSTM Model\")\n",
        "plt.xlabel(\"Date\",fontsize=18)\n",
        "plt.ylabel(\"unemployment rate\",fontsize=18)\n",
        "plt.plot(valid[['values','pred1']])\n",
        "plt.legend()\n",
        "plt.show()"
      ],
      "execution_count": 87,
      "outputs": [
        {
          "output_type": "stream",
          "text": [
            "No handles with labels found to put in legend.\n"
          ],
          "name": "stderr"
        },
        {
          "output_type": "display_data",
          "data": {
            "image/png": "[encoded data removed]",
            "text/plain": [
              "<Figure size 576x288 with 1 Axes>"
            ]
          },
          "metadata": {
            "tags": []
          }
        }
      ]
    },
    {
      "cell_type": "markdown",
      "metadata": {
        "id": "JcqLWK7jszG-",
        "colab_type": "text"
      },
      "source": [
        "#ARIMA"
      ]
    },
    {
      "cell_type": "code",
      "metadata": {
        "id": "7YwtoPKbspGH",
        "colab_type": "code",
        "colab": {}
      },
      "source": [
        "ts=df['values']\n",
        "train=ts[0:432]\n",
        "test= ts[432:len(ts)]"
      ],
      "execution_count": 32,
      "outputs": []
    },
    {
      "cell_type": "code",
      "metadata": {
        "id": "XkYNPjcQx6mr",
        "colab_type": "code",
        "colab": {
          "base_uri": "https://localhost:8080/",
          "height": 35
        },
        "outputId": "4c44693f-632a-428b-cf42-6c3309dde120"
      },
      "source": [
        "len(test)"
      ],
      "execution_count": 33,
      "outputs": [
        {
          "output_type": "execute_result",
          "data": {
            "text/plain": [
              "36"
            ]
          },
          "metadata": {
            "tags": []
          },
          "execution_count": 33
        }
      ]
    },
    {
      "cell_type": "code",
      "metadata": {
        "id": "d-0zCL1qySZX",
        "colab_type": "code",
        "colab": {}
      },
      "source": [
        "train=train.values\n",
        "test=test.values"
      ],
      "execution_count": 34,
      "outputs": []
    },
    {
      "cell_type": "code",
      "metadata": {
        "id": "P5PAl-wAyf9L",
        "colab_type": "code",
        "colab": {
          "base_uri": "https://localhost:8080/",
          "height": 1000
        },
        "outputId": "82f7d2db-275b-40e1-d8cf-8e39012ab13b"
      },
      "source": [
        "from statsmodels.graphics.tsaplots import plot_acf,plot_pacf\n",
        "fig = plt.figure(figsize=(16,16))\n",
        "ax1 = fig.add_subplot(411)\n",
        "fig = plot_acf(df['values'],lags=200,ax=ax1)\n",
        "plt.title('Autocorrelation Lag=200')\n",
        "ax2 = fig.add_subplot(412)\n",
        "fig = plot_pacf(df['values'],lags=200,ax=ax2)\n",
        "plt.title('Partial Autocorrelation Lag=200')\n",
        "ax3 = fig.add_subplot(413)\n",
        "fig = plot_acf(df['values'],lags=15,ax=ax3)\n",
        "plt.title('Autocorrelation Lag=15')\n",
        "ax4 = fig.add_subplot(414)\n",
        "fig = plot_pacf(df['values'],lags=15,ax=ax4)\n",
        "plt.title('Partial Autocorrelation Lag=15')\n",
        "plt.subplots_adjust(left=None, bottom=None, right=None, top=None,\n",
        "                wspace=None, hspace=0.5)\n",
        "plt.show()"
      ],
      "execution_count": 35,
      "outputs": [
        {
          "output_type": "display_data",
          "data": {
            "image/png": "[encoded data removed]",
            "text/plain": [
              "<Figure size 1152x1152 with 4 Axes>"
            ]
          },
          "metadata": {
            "tags": []
          }
        }
      ]
    },
    {
      "cell_type": "code",
      "metadata": {
        "id": "TkKWY7bWzVvs",
        "colab_type": "code",
        "colab": {}
      },
      "source": [
        "from statsmodels.tsa.stattools import adfuller,acf,pacf\n",
        "\n",
        "def test_stationarity(series,mlag =None, lag = None,):\n",
        "    print('ADF Test Result')\n",
        "    res = adfuller(series, maxlag = mlag, autolag = lag)\n",
        "    output = pd.Series(res[0:4],index = ['Test Statistic', 'p value', 'used lag', 'Number of observations used'])\n",
        "    for key, value in res[4].items():\n",
        "        output['Critical Value ' + key] = value\n",
        "    print(output)"
      ],
      "execution_count": 36,
      "outputs": []
    },
    {
      "cell_type": "code",
      "metadata": {
        "id": "_HKruhAnzXLp",
        "colab_type": "code",
        "colab": {
          "base_uri": "https://localhost:8080/",
          "height": 177
        },
        "outputId": "d6752ab0-af12-49c4-b677-a439dd8ba84c"
      },
      "source": [
        "test_stationarity(df['values'])"
      ],
      "execution_count": 37,
      "outputs": [
        {
          "output_type": "stream",
          "text": [
            "ADF Test Result\n",
            "Test Statistic                  -1.923819\n",
            "p value                          0.320940\n",
            "used lag                        18.000000\n",
            "Number of observations used    449.000000\n",
            "Critical Value 1%               -3.444998\n",
            "Critical Value 5%               -2.867999\n",
            "Critical Value 10%              -2.570210\n",
            "dtype: float64\n"
          ],
          "name": "stdout"
        }
      ]
    },
    {
      "cell_type": "code",
      "metadata": {
        "id": "nvcm0MXiy6uZ",
        "colab_type": "code",
        "colab": {}
      },
      "source": [
        "import statsmodels.api as sm\n",
        "from statsmodels.tsa.arima_model import ARIMA\n",
        "import warnings\n",
        "warnings.filterwarnings(\"ignore\")\n",
        "plt.style.use(\"fivethirtyeight\")\n",
        "import statsmodels.api as sm\n",
        "import matplotlib\n",
        "matplotlib.rcParams['axes.labelsize']=14\n",
        "matplotlib.rcParams['xtick.labelsize']=12\n",
        "matplotlib.rcParams['ytick.labelsize']=12\n",
        "matplotlib.rcParams['text.color']='k'"
      ],
      "execution_count": 38,
      "outputs": []
    },
    {
      "cell_type": "code",
      "metadata": {
        "id": "t0cGZMIdya8V",
        "colab_type": "code",
        "colab": {
          "base_uri": "https://localhost:8080/",
          "height": 657
        },
        "outputId": "fa88488f-540b-414d-f5f4-5d25a41ff370"
      },
      "source": [
        "history=[x for x in train]\n",
        "predictions=list()\n",
        "\n",
        "for t in range(len(test)):\n",
        "  model=ARIMA(history,order=(4,1,1))\n",
        "  model_fit=model.fit(disp=0)\n",
        "  output=model_fit.forecast()\n",
        "  yhat=output[0]\n",
        "  predictions.append(yhat)\n",
        "  obs=test[t]\n",
        "  history.append(obs)\n",
        "  print('predicted=%f, expected=%f'%(yhat,obs))"
      ],
      "execution_count": 39,
      "outputs": [
        {
          "output_type": "stream",
          "text": [
            "predicted=6.290113, expected=6.200000\n",
            "predicted=6.181387, expected=6.200000\n",
            "predicted=6.185732, expected=6.200000\n",
            "predicted=6.187078, expected=6.200000\n",
            "predicted=6.189862, expected=6.100000\n",
            "predicted=6.081236, expected=6.100000\n",
            "predicted=6.085612, expected=6.100000\n",
            "predicted=6.086979, expected=6.000000\n",
            "predicted=5.976879, expected=6.000000\n",
            "predicted=5.982684, expected=6.000000\n",
            "predicted=5.984854, expected=6.000000\n",
            "predicted=5.988351, expected=6.000000\n",
            "predicted=5.993057, expected=5.900000\n",
            "predicted=5.883357, expected=5.900000\n",
            "predicted=5.886955, expected=5.800000\n",
            "predicted=5.774927, expected=5.800000\n",
            "predicted=5.778766, expected=5.700000\n",
            "predicted=5.669630, expected=5.700000\n",
            "predicted=5.674989, expected=5.700000\n",
            "predicted=5.679898, expected=5.700000\n",
            "predicted=5.684847, expected=5.600000\n",
            "predicted=5.577901, expected=5.600000\n",
            "predicted=5.582973, expected=5.500000\n",
            "predicted=5.472583, expected=5.500000\n",
            "predicted=5.476666, expected=5.400000\n",
            "predicted=5.368552, expected=5.400000\n",
            "predicted=5.373736, expected=5.300000\n",
            "predicted=5.266763, expected=5.300000\n",
            "predicted=5.272299, expected=5.200000\n",
            "predicted=5.165978, expected=5.200000\n",
            "predicted=5.171532, expected=5.200000\n",
            "predicted=5.177999, expected=5.200000\n",
            "predicted=5.183096, expected=5.100000\n",
            "predicted=5.076888, expected=5.100000\n",
            "predicted=5.081648, expected=5.000000\n",
            "predicted=4.972348, expected=5.000000\n"
          ],
          "name": "stdout"
        }
      ]
    },
    {
      "cell_type": "code",
      "metadata": {
        "id": "JXWVFb9i3LTA",
        "colab_type": "code",
        "colab": {
          "base_uri": "https://localhost:8080/",
          "height": 302
        },
        "outputId": "b33460e4-dacc-4019-e0e6-30114027a2af"
      },
      "source": [
        "plt.figure(figsize=(8,4))\n",
        "plt.title(\"ARIMA Model\")\n",
        "plt.plot(test)\n",
        "plt.plot(predictions, color='red')\n",
        "plt.show()"
      ],
      "execution_count": 40,
      "outputs": [
        {
          "output_type": "display_data",
          "data": {
            "image/png": "[encoded data removed]",
            "text/plain": [
              "<Figure size 576x288 with 1 Axes>"
            ]
          },
          "metadata": {
            "tags": []
          }
        }
      ]
    },
    {
      "cell_type": "markdown",
      "metadata": {
        "id": "BRvYrNx92gGz",
        "colab_type": "text"
      },
      "source": [
        "ERROR FOR ARIMA"
      ]
    },
    {
      "cell_type": "code",
      "metadata": {
        "id": "fs8hBTfNzI0j",
        "colab_type": "code",
        "colab": {
          "base_uri": "https://localhost:8080/",
          "height": 52
        },
        "outputId": "56a6966f-a84e-4dd8-f56c-10c13dd97310"
      },
      "source": [
        "from sklearn.metrics import mean_squared_error\n",
        "error=mean_squared_error(test,predictions)\n",
        "print(\"MSE:\",error)\n",
        "\n",
        "print(\"RMSE:\",np.sqrt(error))"
      ],
      "execution_count": 41,
      "outputs": [
        {
          "output_type": "stream",
          "text": [
            "MSE: 0.0028555560690216057\n",
            "RMSE: 0.05343740327730761\n"
          ],
          "name": "stdout"
        }
      ]
    },
    {
      "cell_type": "markdown",
      "metadata": {
        "id": "bERE5JPI2bye",
        "colab_type": "text"
      },
      "source": [
        "FOR LSTM"
      ]
    },
    {
      "cell_type": "code",
      "metadata": {
        "id": "H87w0Czn2Tar",
        "colab_type": "code",
        "colab": {
          "base_uri": "https://localhost:8080/",
          "height": 52
        },
        "outputId": "8b49a542-6573-4b87-a3e0-c2ba46c73a6b"
      },
      "source": [
        "from sklearn.metrics import mean_squared_error\n",
        "error=mean_squared_error(test,pred1)\n",
        "print(\"MSE:\",error)\n",
        "\n",
        "print(\"RMSE:\",np.sqrt(error))"
      ],
      "execution_count": 88,
      "outputs": [
        {
          "output_type": "stream",
          "text": [
            "MSE: 0.003347159743064926\n",
            "RMSE: 0.057854643228222626\n"
          ],
          "name": "stdout"
        }
      ]
    },
    {
      "cell_type": "markdown",
      "metadata": {
        "id": "iaa3HG5zzfbB",
        "colab_type": "text"
      },
      "source": [
        "#HYBRID # ARIMA-LSTM\n"
      ]
    },
    {
      "cell_type": "code",
      "metadata": {
        "id": "HHIt9hi2zMuO",
        "colab_type": "code",
        "colab": {}
      },
      "source": [
        "NEW_PREDICTION= (pred1+predictions)/2"
      ],
      "execution_count": 89,
      "outputs": []
    },
    {
      "cell_type": "code",
      "metadata": {
        "id": "fgTNxEJZzyDR",
        "colab_type": "code",
        "colab": {
          "base_uri": "https://localhost:8080/",
          "height": 52
        },
        "outputId": "1152955b-3d8f-43c7-d8ab-f903f8d43b3f"
      },
      "source": [
        "from sklearn.metrics import mean_squared_error\n",
        "error=mean_squared_error(test,NEW_PREDICTION)\n",
        "print(\"MSE:\",error)\n",
        "\n",
        "print(\"RMSE:\",np.sqrt(error))"
      ],
      "execution_count": 90,
      "outputs": [
        {
          "output_type": "stream",
          "text": [
            "MSE: 0.002453767482712619\n",
            "RMSE: 0.04953551738614041\n"
          ],
          "name": "stdout"
        }
      ]
    },
    {
      "cell_type": "code",
      "metadata": {
        "id": "A1wch6_230En",
        "colab_type": "code",
        "colab": {
          "base_uri": "https://localhost:8080/",
          "height": 302
        },
        "outputId": "fa07f120-2c53-46af-cab1-852f22ebe02f"
      },
      "source": [
        "plt.figure(figsize=(8,4))\n",
        "plt.title(\"HYBRID Model\")\n",
        "plt.plot(test)\n",
        "plt.plot(NEW_PREDICTION, color='red')\n",
        "plt.show()"
      ],
      "execution_count": 91,
      "outputs": [
        {
          "output_type": "display_data",
          "data": {
            "image/png": "[encoded data removed]",
            "text/plain": [
              "<Figure size 576x288 with 1 Axes>"
            ]
          },
          "metadata": {
            "tags": []
          }
        }
      ]
    },
    {
      "cell_type": "code",
      "metadata": {
        "id": "A5fO2NdWkhxa",
        "colab_type": "code",
        "colab": {}
      },
      "source": [
        ""
      ],
      "execution_count": null,
      "outputs": []
    }
  ]
}